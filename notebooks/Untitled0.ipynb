{
 "metadata": {
  "name": ""
 },
 "nbformat": 3,
 "nbformat_minor": 0,
 "worksheets": [
  {
   "cells": [
    {
     "cell_type": "code",
     "collapsed": false,
     "input": [
      "from sympy import *\n",
      "init_printing()\n",
      "x, y, z, s0, b0, w0, s1, b1, w1, a, nc = symbols(\"x, y, z, s0, b0, w0, s1, b1, w1, a, nc\")\n",
      "\n",
      "\n",
      "f = lambda x: (s0+b0)*log(x*w0) - x*w0 + (s1+b1)*log(x*w1) - x*w1 + nc*log(x/a) - x/a\n",
      "#lambdify([x], (x + pi)**2, 'numpy') \n",
      "f(x)"
     ],
     "language": "python",
     "metadata": {},
     "outputs": [
      {
       "latex": [
        "$$nc \\log{\\left (\\frac{x}{a} \\right )} - w_{0} x - w_{1} x + \\left(b_{0} + s_{0}\\right) \\log{\\left (w_{0} x \\right )} + \\left(b_{1} + s_{1}\\right) \\log{\\left (w_{1} x \\right )} - \\frac{x}{a}$$"
       ],
       "metadata": {},
       "output_type": "pyout",
       "png": "[encoded data removed]",
       "prompt_number": 40,
       "text": [
        "      \u239bx\u239e                                                             x\n",
        "nc\u22c5log\u239c\u2500\u239f - w\u2080\u22c5x - w\u2081\u22c5x + (b\u2080 + s\u2080)\u22c5log(w\u2080\u22c5x) + (b\u2081 + s\u2081)\u22c5log(w\u2081\u22c5x) - \u2500\n",
        "      \u239da\u23a0                                                             a"
       ]
      }
     ],
     "prompt_number": 40
    },
    {
     "cell_type": "code",
     "collapsed": false,
     "input": [
      "diff(f(x),x)"
     ],
     "language": "python",
     "metadata": {},
     "outputs": [
      {
       "latex": [
        "$$\\frac{nc}{x} - w_{0} - w_{1} + \\frac{1}{x} \\left(b_{0} + s_{0}\\right) + \\frac{1}{x} \\left(b_{1} + s_{1}\\right) - \\frac{1}{a}$$"
       ],
       "metadata": {},
       "output_type": "pyout",
       "png": "[encoded data removed]",
       "prompt_number": 41,
       "text": [
        "nc             b\u2080 + s\u2080   b\u2081 + s\u2081   1\n",
        "\u2500\u2500 - w\u2080 - w\u2081 + \u2500\u2500\u2500\u2500\u2500\u2500\u2500 + \u2500\u2500\u2500\u2500\u2500\u2500\u2500 - \u2500\n",
        "x                 x         x      a"
       ]
      }
     ],
     "prompt_number": 41
    },
    {
     "cell_type": "code",
     "collapsed": false,
     "input": [
      "solve(diff(f(x),x),x)"
     ],
     "language": "python",
     "metadata": {},
     "outputs": [
      {
       "latex": [
        "$$\\begin{bmatrix}\\frac{a \\left(b_{0} + b_{1} + nc + s_{0} + s_{1}\\right)}{a w_{0} + a w_{1} + 1}\\end{bmatrix}$$"
       ],
       "metadata": {},
       "output_type": "pyout",
       "png": "[encoded data removed]",
       "prompt_number": 39,
       "text": [
        "\u23a1a\u22c5(b\u2080 + b\u2081 + nc + s\u2080 + s\u2081)\u23a4\n",
        "\u23a2\u2500\u2500\u2500\u2500\u2500\u2500\u2500\u2500\u2500\u2500\u2500\u2500\u2500\u2500\u2500\u2500\u2500\u2500\u2500\u2500\u2500\u2500\u2500\u2500\u2500\u2500\u23a5\n",
        "\u23a3     a\u22c5w\u2080 + a\u22c5w\u2081 + 1      \u23a6"
       ]
      }
     ],
     "prompt_number": 39
    },
    {
     "cell_type": "code",
     "collapsed": false,
     "input": [],
     "language": "python",
     "metadata": {},
     "outputs": [],
     "prompt_number": 35
    }
   ],
   "metadata": {}
  }
 ]
}