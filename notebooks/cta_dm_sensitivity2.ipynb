{
 "metadata": {
  "name": ""
 },
 "nbformat": 3,
 "nbformat_minor": 0,
 "worksheets": [
  {
   "cells": [
    {
     "cell_type": "heading",
     "level": 1,
     "metadata": {},
     "source": [
      "Introduction"
     ]
    },
    {
     "cell_type": "markdown",
     "metadata": {},
     "source": [
      "We describe a methodology for the calculation of experimental sensitivity for CTA DM searches that follows the approach described in Cowan et al. 2010.  The basic idea is to construct a representative data set (the \"Asimov\" data set) and apply a maximum likelihood analysis to this data set in the same way we would for the real data.\n",
      "\n",
      "In order to formulate the sensitivity calculation for CTA we first construct a DM test statistic (TS) which is the statistical test we apply to the data to search for a DM signal.  The method of maximum likelihood (ML) is generally the most sensitive statistical test in the asymptotic limit (smallest variance) and thus should provide the best theoretical sensitivity for CTA analysis.  We formulate the TS from the likelihood ratio between two models with and without DM:\n",
      "\n",
      "$TS_{DM} = 2\\left(\\ln L(\\hat{\\boldsymbol{\\theta}}_{1}|\\mathcal{D}) - \\ln L(\\hat{\\boldsymbol{\\theta}}_{0}|\\mathcal{D})\\right)$\n",
      "\n",
      "where $L(\\boldsymbol{\\theta}|\\mathcal{D})$ is the liklihood for the data $\\mathcal{D}$ under a set of parameters $\\boldsymbol{\\theta}$.  The parameters $\\hat{\\boldsymbol{\\theta}}_{1}$ and $\\hat{\\boldsymbol{\\theta}}_{0}$ are the MLEs for the model parameters under the signal and null hypotheses respectively.  In this formulation we have assumed that the null and signal models are nested.  "
     ]
    },
    {
     "cell_type": "heading",
     "level": 2,
     "metadata": {},
     "source": [
      "Model Calculation"
     ]
    },
    {
     "cell_type": "markdown",
     "metadata": {},
     "source": [
      "In the case of CTA analysis of a DM target the likelihood can naturally be formulated in terms of the PDF for the data in three dimensions: two spatial coordinates (e.g. RA and DEC) and one energy coordinates.  Note that one could further consider formulating the likelihood with additional dimensions -- for instance the G/H parameter or parameters which correlate with the reconstruction quality (telescope multiplicity).  One advantage of the ML approach is that the contribution of data at a particular point in phase space will be automatically weighted according to the signal and background probabilities.  Thus as long as the ROI and energy range fully encompasses the signal there is no need to optimize additional parameters of the analysis.  This is to be compared to analyses which integrate the data over a given spatial region or energy range.\n",
      "\n",
      "For the CTA observation of a sphericaly symmetric DM halo we can make a simplification by taking advantage of the azimuthal symmetry of the DM signal with respect to the halo center and performing the analysis in only two dimensions: energy and radial distance from the source.  In doing this we implicitly assume that the background will also be azimuthally symmetric.  The data can then be represented in terms of a 2D array of bin occupation values where $\\mathcal{D} = \\{\\boldsymbol{\\mu}_{ij}\\}$ with $i$ denoting the energy bin index and $j$ denoting the radial bin index.  For each bin we evaluate the amplitude of signal and background based on the following performance parameters for the CTA array:\n",
      "\n",
      "1. Gamma-ray Effective Area: $A(E)$\n",
      "2. Gamma-ray PSF: $P(E,r)$\n",
      "3. Residual Background Rate: $\\frac{d\\phi_{b}(E)}{dEd\\Omega}$\n",
      "\n",
      "The DM signal amplitude in bin $ij$ is then given by:\n",
      "\n",
      "$$\\mu_{ij,DM} = \\tau\\int_{\\Omega_{j}}\\int_{\\Delta_{i}} A(E)\\frac{d\\phi_{DM}}{dEd\\Omega}(E,\\mathbf{e})*P(E) d\\Omega dE$$\n",
      "\n",
      "where we perform an integration over the annular spatial bin ($\\Omega_{j}$) and the energy bin ($\\Delta_{i}$) and $d\\phi_{DM}(\\mathbf{e})dEd\\Omega$ is the differential gamma-ray flux from DM annihilations:\n",
      "\n",
      "$$\\frac{d\\phi_{DM}(E,\\mathbf{e})}{dEd\\Omega} = \\frac{\\left<\\sigma v\\right>}{8\\pi m_{DM}^2}\\frac{dN(E)}{dE}\\frac{dJ(\\mathbf{e})}{d\\Omega} $$\n",
      "\n",
      "The CR background is given by:\n",
      "\n",
      "$$\\mu_{ij,b} = \\tau\\int\\int \\frac{d\\phi_{b}(E)}{dEd\\Omega}d\\Omega dE$$\n",
      "\n",
      "Modeling of the residual background in IACT data is generally performed using empirical techniques which use the background amplitude in other regions of the sky (OFF regions) to estimate the background within the signal region.  \n",
      "\n",
      "Because the background amplitude is measured from the data this uncertainty \n",
      "\n",
      "One additional consideration must be given to the statistical uncertainty\n",
      "\n",
      "$L$"
     ]
    },
    {
     "cell_type": "heading",
     "level": 1,
     "metadata": {},
     "source": [
      "Asimov Sensitivity for an On-Off Experiment"
     ]
    },
    {
     "cell_type": "markdown",
     "metadata": {},
     "source": [
      "Here we provide some specific formulae which can be used to evaluate the sensitivity for an on-off experiment.  In the following notation we use a single index (i) to indicate the vector of data values ($n_{i}$).  We assume two normalization parameters for the signal and background distributions ($\\mu_{s}$ and $\\mu_{b}$) which are obtained by fitting to the data.  The normalization of the background is additionally constrained by the number of counts in a control (off) region ($n_{c}$).  The ratio between the expected number of background counts in bin $i$ and the control region is $\\alpha_{i} = \\mu_{b,i}/n_{c}$.\n",
      "\n",
      "  The Asimov data sets for the signal, background and control regions are:\n",
      "\n",
      "$$\\begin{split}\n",
      "n_{A,i}(\\mu) &= \\mu E[s_{i}] + E[b_{i}]\\\\\n",
      "n_{A,c} &= \\sum_{i} \\frac{E[b_{i}]}{\\alpha_{i}}\n",
      "\\end{split} $$\n",
      "\n",
      "The median TS for discovery as evaluated from the Asimov datasets\n",
      "\n",
      "$$TS_{A}(\\mu) = \\sum_{i}-2\\left(\\ln L(\\{\\hat{\\mu}_{s},\\hat{\\mu}_{b}\\}|\\mathbf{n}_{A}(\\mu))-\\ln L(\\{\\hat{\\mu}'_{b}\\}|\\mathbf{n}_{A}(\\mu))\\right)$$\n",
      "where $\\hat{\\mu}_{s}$ and $\\hat{\\mu}_{b}$ are the MLEs for signal and background under the signal hypothesis and $\\hat{\\boldsymbol{\\mu}}'_{b}$ is the MLE for background under the null hypothesis.  In the signal hypothesis case the MLE are simply obtained by substituting the asimov values for signal and background.  Under the null hypothesis the MLE for background normalization is given by:\n",
      "\n",
      "$$ $$"
     ]
    },
    {
     "cell_type": "heading",
     "level": 1,
     "metadata": {},
     "source": [
      "Example"
     ]
    },
    {
     "cell_type": "markdown",
     "metadata": {},
     "source": [
      "The following code demonstrates the calculation of the median TS for an experiment where the signal PDF is a gaussian and the background PDF is a constant."
     ]
    },
    {
     "cell_type": "code",
     "collapsed": false,
     "input": [
      "%reload_ext autoreload\n",
      "%matplotlib inline\n",
      "%autoreload\n",
      "%matplotlib inline\n",
      "\n",
      "import gammatools\n",
      "import numpy as np\n",
      "from gammatools.core.histogram import Histogram, Axis\n",
      "from gammatools.core.stats import *\n",
      "\n",
      "#print 1.0-limit_sigma_to_pval(5.0)\n",
      "\n",
      "ntrial = 1000\n",
      "\n",
      "axis = Axis.create(-3,3,10)\n",
      "\n",
      "mus = 0.01*np.exp(-axis.center()**2)\n",
      "mub = 50.*np.ones(axis.nbins())\n",
      "\n",
      "ns = np.random.poisson(mus,(ntrial,axis.nbins()))\n",
      "nb = np.random.poisson(mub,(ntrial,axis.nbins()))\n",
      "                       \n",
      "hs = Histogram(axis)\n",
      "hb = Histogram(axis)\n",
      "ts_hist = Histogram(Axis.create(0,200,100))\n",
      "\n",
      "ul_hist = Histogram(Axis.create(0,200,100))\n",
      "\n",
      "hs.fill(hs.axis().center(),ns[0])\n",
      "hb.fill(hs.axis().center(),nb[0])\n",
      "\n",
      "hsum = hs + hb\n",
      "\n",
      "\n",
      "ts = poisson_ts(ns+nb,mus[np.newaxis,:]/np.sum(mus),mub[np.newaxis,:],data_axes=1)\n",
      "\n",
      "\n",
      "ul = poisson_ul(ns+nb,mus/np.sum(mus),mub)\n",
      "\n",
      "\n",
      "ts_hist.fill(np.sum(ts,axis=1))\n",
      "ul_hist.fill(ul)\n",
      "\n",
      "fig = plt.figure(figsize=(14,6))\n",
      "\n",
      "fig.add_subplot(1,2,1)\n",
      "\n",
      "ul_hist.plot()\n",
      "\n",
      "#hs.plot(color='b')\n",
      "#hb.plot(color='g')\n",
      "#hsum.plot(color='k')\n",
      "\n",
      "fig.add_subplot(1,2,2)\n",
      "\n",
      "\n",
      "\n",
      "ts_hist.plot()\n",
      "\n",
      "median_ts_asimov = np.sum(poisson_median_ts(mus,mub,1E-10))\n",
      "median_ts_ul_asimov = np.sum(poisson_median_ul(mus,mub,1E-10))\n",
      "median_ts_mc = np.median(np.sum(ts,axis=1))\n",
      "median_ul_mc = np.median(ul)\n",
      "\n",
      "print 'Median TS q0 (Asimov): ', median_ts_asimov\n",
      "print 'Median TS qmu (Asimov): ', median_ts_ul_asimov\n",
      "print 'Median TS (MC):     ', median_ts_mc\n",
      "print 'Median UL (MC):     ', median_ul_mc\n",
      "print 'Sig MC Counts:      ', np.sum(mus)\n",
      "print 'Bkg MC Counts:      ', np.sum(mub)\n",
      "\n",
      "print 'Median TS (Asimov w/ UL): ', np.sum(poisson_median_ts(median_ul_mc*mus/np.sum(mus),mub,1E-10))\n",
      "\n",
      "\n",
      "\n",
      "#print 'TS'\n",
      "\n",
      "#print median_ts, ts_hist.quantile(0.5)[0], np.median(np.sum(ts,axis=1))\n",
      "\n",
      "#print median_ts - np.median(np.sum(ts,axis=1))\n",
      "\n",
      "#plt.axvline(median_ts,color='k',linewidth=2)\n",
      "#plt.axvline(ts_hist.quantile(0.5)[0],color='g',linewidth=2)\n",
      "\n",
      "\n",
      "\n"
     ],
     "language": "python",
     "metadata": {},
     "outputs": [
      {
       "output_type": "stream",
       "stream": "stdout",
       "text": [
        "Median TS q0 (Asimov):  0.0234375\n",
        "Median TS qmu (Asimov):  0.0\n",
        "Median TS (MC):      -0.0557597512004\n",
        "Median UL (MC):      27.0408396876\n",
        "Sig MC Counts:       0.0295405196488\n",
        "Bkg MC Counts:       500.0\n",
        "Median TS (Asimov w/ UL):  3.3828125\n"
       ]
      },
      {
       "metadata": {},
       "output_type": "display_data",
       "png": "[encoded data removed]",
       "text": [
        "<matplotlib.figure.Figure at 0x12c76a410>"
       ]
      }
     ],
     "prompt_number": 231
    },
    {
     "cell_type": "code",
     "collapsed": false,
     "input": [
      "fn0 = lambda n, mu: n*np.log(mu) - mu\n",
      "\n",
      "fn_q0 = lambda s, b: fn0(s+b,s+b) - fn0(s+b,b)\n",
      "\n",
      "fn_qmu = lambda s, b: fn0(b,b) - fn0(b,s+b)\n",
      "\n",
      "\n",
      "plt.figure()\n",
      "\n",
      "x = np.linspace(0,100,100)\n",
      "\n",
      "plt.plot(x,fn_q0(x,10),label='q0')\n",
      "plt.plot(x,fn_qmu(x,10),label='qmu')\n",
      "\n",
      "plt.gca().grid(True)\n",
      "\n",
      "plt.gca().legend()\n",
      "\n",
      "print fn_q0(3,2)\n",
      "print fn_qmu(3,2)"
     ],
     "language": "python",
     "metadata": {},
     "outputs": [
      {
       "output_type": "stream",
       "stream": "stdout",
       "text": [
        "1.58145365937\n",
        "1.16741853625\n"
       ]
      },
      {
       "metadata": {},
       "output_type": "display_data",
       "png": "[encoded data removed]",
       "text": [
        "<matplotlib.figure.Figure at 0x11fb3cc10>"
       ]
      }
     ],
     "prompt_number": 153
    },
    {
     "cell_type": "code",
     "collapsed": false,
     "input": [
      "%reload_ext autoreload\n",
      "%matplotlib inline\n",
      "%autoreload\n",
      "%matplotlib inline\n",
      "\n",
      "from gammatools.core.stats import *\n",
      "\n",
      "ntrial = 100\n",
      "\n",
      "mub = 3.0\n",
      "mus = 2.0\n",
      "\n",
      "ns = np.random.poisson(mus,(ntrial))\n",
      "nb = np.random.poisson(mub,(ntrial))\n",
      "\n",
      "ts_mc = -2*(poisson_lnl(ns+nb,mub) - poisson_lnl(ns+nb,ns+nb))\n",
      "\n",
      "\n",
      "#print ts_mc\n",
      "#print ns+nb\n",
      "#print poisson_lnl(0,0)\n",
      "\n",
      "fn_qmu = lambda n, mu0, mu1: -2*(poisson_lnl(n,mu1) - poisson_lnl(n,mu0))\n",
      "\n",
      "print np.median(ts_mc)\n",
      "print fn_qmu(mus+mub,mus+mub,mub)\n"
     ],
     "language": "python",
     "metadata": {},
     "outputs": [
      {
       "output_type": "stream",
       "stream": "stdout",
       "text": [
        "0.743197902614\n",
        "[ 1.10825624]\n"
       ]
      },
      {
       "output_type": "stream",
       "stream": "stderr",
       "text": [
        "[autoreload of gammatools.core.stats failed: Traceback (most recent call last):\n",
        "  File \"/opt/local/Library/Frameworks/Python.framework/Versions/2.7/lib/python2.7/site-packages/IPython/extensions/autoreload.py\", line 229, in check\n",
        "    superreload(m, reload, self.old_objects)\n",
        "  File \"/Users/mdwood/fermi/gammatools/gammatools/core/stats.py\", line 200\n",
        "    print 'q0 UL ', find_fn_root(lambda t: fn_qmu(mub,mub,mub+t),0,100,2.72)\n",
        "        ^\n",
        "IndentationError: expected an indented block\n",
        "]\n"
       ]
      }
     ],
     "prompt_number": 232
    },
    {
     "cell_type": "code",
     "collapsed": false,
     "input": [],
     "language": "python",
     "metadata": {},
     "outputs": [],
     "prompt_number": 216
    },
    {
     "cell_type": "code",
     "collapsed": false,
     "input": [],
     "language": "python",
     "metadata": {},
     "outputs": []
    }
   ],
   "metadata": {}
  }
 ]
}