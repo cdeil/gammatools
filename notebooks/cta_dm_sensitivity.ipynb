{
 "metadata": {
  "name": ""
 },
 "nbformat": 3,
 "nbformat_minor": 0,
 "worksheets": [
  {
   "cells": [
    {
     "cell_type": "heading",
     "level": 1,
     "metadata": {},
     "source": [
      "Introduction"
     ]
    },
    {
     "cell_type": "markdown",
     "metadata": {},
     "source": [
      "We describe a methodology for the calculation of experimental sensitivity for CTA DM searches that follows the approach described in <a href=\"http://arxiv.org/abs/1007.1727\">Cowan et al. 2010</a>.  The basic idea is to construct a representative data set (the \"Asimov\" data set) and apply a maximum likelihood analysis to this data set in the same way we would for the real data.\n",
      "\n",
      "In order to formulate the sensitivity calculation for CTA we first construct a DM test statistic (TS) which is the statistical test we apply to the data to search for a DM signal.  The method of maximum likelihood (ML) is generally the most sensitive statistical test in the asymptotic limit (smallest variance) and thus should provide the best theoretical sensitivity for CTA analysis.  We formulate the TS from the likelihood ratio between two models with and without DM:\n",
      "\n",
      "$TS = 2\\left(\\ln L(\\hat{\\boldsymbol{\\theta}}_{1}|\\mathcal{D}) - \\ln L(\\hat{\\boldsymbol{\\theta}}_{0}|\\mathcal{D})\\right)$\n",
      "\n",
      "where $L(\\boldsymbol{\\theta}|\\mathcal{D})$ is the liklihood for the data $\\mathcal{D}$ under a set of parameters $\\boldsymbol{\\theta}$.  The parameters $\\hat{\\boldsymbol{\\theta}}_{1}$ and $\\hat{\\boldsymbol{\\theta}}_{0}$ are the MLEs for the model parameters under the signal and null hypotheses respectively.  Note that the parameter set $\\boldsymbol{\\theta}$ can include any number of nuisance parameters.  The impact of  nuisance parameters on the signal sensitivity is accounted for by reoptimizing the likelihood as a function of all parameters for each trial value of the signal parameters."
     ]
    },
    {
     "cell_type": "heading",
     "level": 3,
     "metadata": {},
     "source": [
      "Signal and Background Model Calculation"
     ]
    },
    {
     "cell_type": "markdown",
     "metadata": {},
     "source": [
      "In the case of CTA analysis of a DM target the likelihood can naturally be formulated in terms of the PDF for the data in three dimensions: two spatial coordinates (e.g. RA and DEC) and one energy coordinates.  Note that one could further consider formulating the likelihood with additional dimensions -- for instance the G/H parameter or parameters which correlate with the reconstruction quality (telescope multiplicity).  One advantage of the ML approach is that the contribution of data at a particular point in phase space will be automatically weighted according to the signal and background probabilities.  Thus as long as the ROI and energy range fully encompasses the signal there is no need to optimize additional parameters of the analysis.  This is to be compared to analyses which integrate the data over a given spatial region or energy range.\n",
      "\n",
      "For the CTA observation of a sphericaly symmetric DM halo we can reduce the dimensionality of the analysis by using a polar coordinate system centered on the GC and marginalizing over the azimuthal angle.  The distribuion of signal and background can then be described by 2D PDFs in\n",
      "energy and angular distance from the GC.  Note that this simplification implicitly assumes that the background will also be azimuthally symmetric.  This should be a good approximation for the CR background but most likely would not describe the astrophysical backgrounds in the GC region.\n",
      "\n",
      "Given the projection to energy and radial distance, the data can be represented by a 2D array of bin occupation values where $\\mathcal{D} = \\{\\boldsymbol{\\mu}_{ij}\\}$ with $i$ denoting the energy bin index and $j$ denoting the radial bin index.  For each bin we evaluate the amplitude of signal and background based on the following performance parameters for the CTA array:\n",
      "\n",
      "1. Gamma-ray Effective Area: $A(E)$\n",
      "2. Gamma-ray PSF: $P(E,r)$\n",
      "3. Residual CR Background Rate (Protons+Electrons): $\\frac{d\\phi_{b}(E)}{dEd\\Omega}$\n",
      "\n",
      "The DM signal amplitude in bin $ij$ is then given by:\n",
      "\n",
      "$$\\mu_{ij,DM} = \\tau\\int_{\\Omega_{j}}\\int_{\\Delta_{i}} A(E)\\frac{d\\phi_{DM}}{dEd\\Omega}(E,\\mathbf{e})*P(E) d\\Omega dE$$\n",
      "\n",
      "where we perform an integration over the annular spatial bin ($\\Omega_{j}$) and the energy bin ($\\Delta_{i}$) and $d\\phi_{DM}/(\\mathbf{e})dEd\\Omega$ is the differential gamma-ray flux from DM annihilations:\n",
      "\n",
      "$$\\frac{d\\phi_{DM}(E,\\mathbf{e})}{dEd\\Omega} = \\frac{\\left<\\sigma v\\right>}{8\\pi m_{DM}^2}\\frac{dN(E)}{dE}\\frac{dJ(\\mathbf{e})}{d\\Omega} $$\n",
      "\n",
      "The CR background is given by:\n",
      "\n",
      "$$\\mu_{ij,b} = \\tau\\int\\int \\frac{d\\phi_{b}(E)}{dEd\\Omega}d\\Omega dE$$\n",
      "\n",
      "Modeling of the residual background in IACT data is generally performed using empirical techniques which use the background amplitude in other regions of the sky (OFF regions) to estimate the background within the signal region.  \n",
      "\n"
     ]
    },
    {
     "cell_type": "heading",
     "level": 3,
     "metadata": {},
     "source": [
      "Asimov Sensitivity for an On-Off Experiment"
     ]
    },
    {
     "cell_type": "markdown",
     "metadata": {},
     "source": [
      "Here we provide some specific formulae which can be used to evaluate the sensitivity for an on-off experiment.  In the following notation we use a single index (i) to indicate the vector of bin occupations ($n_{i}$).  We assume two normalization parameters for the signal and background distributions ($\\mu_{s}$ and $\\mu_{b}$) which are obtained by fitting to the data vector.  The normalization of the background is additionally constrained by the number of counts in a control (off) region ($n_{c}$).  The ratio between the expected number of background counts in bin $i$ and the control region is $\\alpha = \\sum_{i}\\mu_{b,i}/\\mu_{c}$.\n",
      "\n",
      "The Asimov data sets for the signal, background and control regions are:\n",
      "\n",
      "$$\\begin{split}\n",
      "n_{A,i}(\\mu) &= \\mu E[s_{i}] + E[b_{i}]\\\\\n",
      "n_{A,c} &= \\frac{1}{\\alpha}\\sum_{i} E[b_{i}]\n",
      "\\end{split} $$\n",
      "\n",
      "where $\\mu$ is a signal strength parameter with which we can rescale the amplitude of the signal.\n",
      "\n",
      "The median TS for discovery as evaluated from the Asimov datasets for signal strength parameter $\\mu$ is\n",
      "\n",
      "$$TS_{A}(\\mu) = \\sum_{i}2\\left(\\ln L(\\{\\hat{\\mu}_{s},\\hat{\\mu}_{b}\\}|\\mathbf{n}_{A,i}(\\mu))-\\ln L(\\{\\hat{\\mu}'_{b}\\}|\\mathbf{n}_{A,i}(\\mu))\\right)$$\n",
      "where $\\hat{\\mu}_{s}$ and $\\hat{\\mu}_{b}$ are the MLEs for signal and background under the signal hypothesis and $\\hat{\\mu}'_{b}$ is the MLE for background under the null hypothesis.  In the signal hypothesis case the MLE are simply obtained by substituting the asimov values for signal and background:\n",
      "\n",
      "$$\\begin{split}\n",
      "\\hat{\\mu}_{s} &=\\mu E[s_{i}]\\\\\n",
      "\\hat{\\mu}_{b} &=E[b_{i}]\n",
      "\\end{split}$$\n",
      "\n",
      "Under the null hypothesis the MLE for background normalization is given by:\n",
      "\n",
      "$$\\hat{\\mu}'_{b} = \\frac{\\alpha}{1+\\alpha}\\left(n_{A,c} + \\sum_{i}n_{A,i}(\\mu)\\right)$$\n",
      "\n",
      "Thus to obtain the signal strength for which med[TS]=x we can numerically solve  for the value of $\\mu$ for which $TS_{A}(\\mu) = x$.\n",
      "\n",
      "The statistical variation on the measured strength parameter given an ensemble of experiments with the same true signal strength is given by\n",
      "\n",
      "$$\\sigma_{\\mu}^2 = \\frac{\\mu^2}{TS_{A}(\\mu)}$$"
     ]
    },
    {
     "cell_type": "heading",
     "level": 1,
     "metadata": {},
     "source": [
      "Example"
     ]
    },
    {
     "cell_type": "markdown",
     "metadata": {},
     "source": [
      "The following code demonstrates the calculation of the median TS for an experiment where the signal PDF is a gaussian and the background PDF is a constant.  The method asimov_mu_ts0 computes the value of the signal strength parameter ($\\mu$) for which we could expect a median[TS]=25.0.  "
     ]
    },
    {
     "cell_type": "code",
     "collapsed": false,
     "input": [
      "%reload_ext autoreload\n",
      "%matplotlib inline\n",
      "%autoreload\n",
      "%matplotlib inline\n",
      "\n",
      "import matplotlib.pyplot as plt\n",
      "import gammatools\n",
      "import numpy as np\n",
      "from gammatools.core.histogram import Histogram, Axis\n",
      "from gammatools.core.stats import *\n",
      "\n",
      "axis = Axis.create(-3,3,100)\n",
      "\n",
      "# Create PDFs for signal and background\n",
      "fn = lambda t: 1./np.sqrt(2*np.pi)*np.exp(-t**2/2.)\n",
      "mus = 100.0*fn(axis.center())\n",
      "mub = 50.*np.ones(axis.nbins())\n",
      "\n",
      "scalc = OnOffExperiment(mus,mub,alpha=0.2)\n",
      "\n",
      "# Find the signal strength for which the median TS = 25\n",
      "mu, mu_err = scalc.asimov_mu_ts0(25.0)\n",
      "\n",
      "print 'Signal Stregth for TS = 25.0: %f +/- %f '%(mu, mu_err)\n",
      "ts = scalc.mc_ts(mu,1000)\n",
      "ts_hist = Histogram(Axis.create(0,100,100))\n",
      "ts_hist.fill(ts)\n",
      "\n",
      "plt.figure()\n",
      "ts_hist.plot()\n",
      "plt.axvline(25.0,color='k',label='TS=25.0')\n",
      "plt.axvline(np.median(ts),color='r',label='Median TS (MC)')\n",
      "plt.gca().legend(loc='best')\n",
      "plt.gca().grid(True)"
     ],
     "language": "python",
     "metadata": {},
     "outputs": [
      {
       "output_type": "stream",
       "stream": "stdout",
       "text": [
        "Signal Stregth for TS = 25.0: 0.175170 +/- 0.035034 \n"
       ]
      },
      {
       "metadata": {},
       "output_type": "display_data",
       "png": "[encoded data removed]",
       "text": [
        "<matplotlib.figure.Figure at 0x10560d750>"
       ]
      }
     ],
     "prompt_number": 13
    },
    {
     "cell_type": "code",
     "collapsed": false,
     "input": [],
     "language": "python",
     "metadata": {},
     "outputs": []
    }
   ],
   "metadata": {}
  }
 ]
}